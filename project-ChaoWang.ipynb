{
 "cells": [
  {
   "cell_type": "markdown",
   "metadata": {},
   "source": [
    "### CS/ECE/ISyE 524 &mdash; Introduction to Optimization &mdash; Summer 2018 ###\n",
    "\n",
    "# Minimizing Wasted Space to Load Maximum Products #\n",
    "\n",
    "#### Chao Wang (cwang573@wisc.edu)\n",
    "### Table of Contents\n",
    "\n",
    "1. [Introduction](#1.-Introduction)\n",
    "1. [Mathematical Model](#2.-Mathematical-model)\n",
    "\n",
    "    2.1. [General Background](#2.1-General-background)\n",
    "    \n",
    "    2.2. [Basic Investigation](#2.2-Basic-investigation)\n",
    "    \n",
    "    2.3. [Further Investigation](#2.3-Further-investigation)    \n",
    "\n",
    "1. [Solution](#3.-Solution)\n",
    "\n",
    "    3.1. [Basic Solution](#3.1-Basic-solution)\n",
    "    \n",
    "    3.2. [Further Solution](#3.2-Further-solution)\n",
    "    \n",
    "1. [Results and Discussion](#4.-Results-and-discussion)\n",
    "\n",
    "    4.1. [Basic Results](#4.1-Basic-results)\n",
    "    \n",
    "    4.2. [Further Results](#4.2-Further-results)\n",
    "    \n",
    "    4.3. [Overall](#4.3-Overall)\n",
    "    \n",
    "1. [Conclusion](#5.-Conclusion)"
   ]
  },
  {
   "cell_type": "markdown",
   "metadata": {},
   "source": [
    "## 1. Introduction ##\n",
    "\n",
    "In my project, I am going to do the project about the optimization problem for the partial loading problem. [Here is the citation](https://www.solver.com/examples-optimization-problems?gclid=Cj0KCQjw-o_bBRCOARIsAM5NbIPDNeW0LZcvn3qmbwFOZ333FK98pNUPiVaHU3x7MNORpBcsf1gYqHoaAlopEALw_wcB). This kind of problem is the classic optimization problem that happened in the daily event that help to upload the products as many as possible. it can be traced from [here](https://en.wikipedia.org/wiki/Bin_packing_problem). The problem's data is coming from the synthetical generation. The history of the problem came from The problem is that I am assuming there is a company want to load their products into the transportation, though I have no way to find out the exact data such as this kind of partial loading problem, so I am going to make assumption for the data and truck's space volume is fixed as 16\\*8\\*8, the space volume is divided into 16 small spaces for the people to set up the different kinds of products. And, assuming there are three kinds of different products called a,b,c. And a's space volume is 2\\*2\\*2, b's space volume is 1\\*4\\*4, and c's space volume is 2\\*3\\*4. And my goal for this projet is to spend less wasted area to load the products as many as possible. \n",
    "\n",
    "Here, it is my summary about the seven pattern to fit in the area with least wasted space\n",
    "1. #8 of a can be set up\n",
    "2. #4 of b can be set up\n",
    "3. #2 of a, #1 of b, and #1 of c can be set up, with wasted area of 2\\*1\\*4\n",
    "4. #4 of a, #2 of b\n",
    "5. #4 of a, #1 of c, with wasted area of 2\\*1\\*4\n",
    "6. #2 of b, #1 of c, with wasted area of 2\\*1\\*4\n",
    "7. #1 of b, #2 of c\n",
    "\n",
    "The reason that I am going to do this kind of problem is that I am interested in doing the homework for that transportation optimization in the last weeks, and I am thinking about is there any other kind of transportation except to consider about the shoetest length, and I research about the internet to find the topic about the prtial transportation. In this project, I am planning to solve this by first creating the matrix for all the pattern that can be set up. Using A to represent to matrix, and making the fix for the demand of the products, to make the number of patterns as small as possbile,   And I will consider it about the weight limitation compared with relationship between demand and supply. In this problem, I will consider that in a easy and tough version as far as I could. The most tough part in this project is that to control the wasting area, so the constrain is especially important. my outline is to control that with setting up the variable for the different kinds of pattern and constraints, and then adding them to the Julia to code. The result might not be the best, and in the end I will find out the shortage of my project and check out whether there is any aspect that I can research in the future. "
   ]
  },
  {
   "cell_type": "markdown",
   "metadata": {},
   "source": [
    "## 2. Mathematical model ##\n",
    "### 2.1 General background ###\n",
    "In this project, I am going to use the Linear Program and Integer Program as my basic model type. In the basic step, the decision variable is the number of the pattern that can be used in the partial loading, which is listed in the introduction, and we name the decision varialbe as $x_i$, for i is the number that counting from 1 to 7. The basic objective for us is that we need to fulfill the demand of the products by using the least number of wasting areas. So, we name the demand of the three products as $d_1$, $d_2$, and $d_3$. And then we need to make sure that we can minimize the number of the pattern that we should use, the least number of the pattern we can use, then the less wasted area that we can control.\n",
    "\n",
    "In the further step, I am going to expand the transportation number and the weight limitation for the trucks, and I will produce the binary variable $b_i$ to determine whether the transportation is empty or fully loaded so that it can avoid the reputation of using the trucks. Here, I assume that the limitation of each transportation's weight is 1000, and product a's weight is 30, product b's weight is 15, product c's weight is 10. \n",
    "### 2.2 Basic investigation ###\n",
    "\n",
    "#### decision variable: ####\n",
    "in this step, the decision variable is $x_i \\ge 0$, for $i$ is the number that counting from 1 to 7, it is the number of times we use pattern.\n",
    "\n",
    "#### constraint: ####\n",
    "The constraint is to make a limitation for the demand of the products, so should be $A*x \\ge \\begin{bmatrix} d_1 \\\\ d_2 \\\\ d_3 \\end{bmatrix}$, which A is the matrix that list each pattern in the column way.\n",
    "\n",
    "$A = \\left[\n",
    "\\begin{array}\n",
    "\\\\ 8 & 0 & 2 & 4 & 4 & 0 & 0\n",
    "\\\\0 & 4 & 1 & 2 & 0 & 2 & 1 \n",
    "\\\\0 & 0 & 1 & 0 & 1 & 1 & 2 \n",
    "\\end{array} \\right]$\n",
    "\n",
    "#### objective: ####\n",
    "And the objective is to minimize the number of patterns, so it should be \n",
    "\n",
    "$\\underset{x\\in \\mathbb{R^n}}{\\text{min}}\\displaystyle \\sum_{i=1}^{7} x_i$\n",
    "\n",
    "#### standard form: ####\n",
    "So, here the standard form is that:\n",
    "\n",
    "$$\\begin{aligned}\n",
    "  \\underset{x\\in \\mathbb{R^n}}{\\text{min}}\\qquad& \\sum_{i=1}^{7}x_i \\\\\n",
    "    \\text{subject to:}\\qquad& A*x \\ge \\begin{bmatrix} d_1 \\\\ d_2 \\\\ d_3 \\end{bmatrix}\n",
    "    & x_i \\ge 0 \\qquad& \\forall i \\in \\{1,2,...7\\}\n",
    "    \\end{aligned}$$\n",
    "\n",
    "\n",
    "### 2.3 Further investigation ###\n",
    "\n",
    "#### decision variable: ####\n",
    "\n",
    "$x_i \\ge 0$, for $i$ is the number that counting from 1 to 7, it is the number of times we use pattern.\n",
    "\n",
    "$b_i \\ge 0$, for $i$ is the number that counting from 1 to 8, it is the binary decision variable for whether using the truck.\n",
    "\n",
    "$w_{ij} \\ge 0$, for $i$ is the number that represents the number of patterns, and $j$ is the number that represents the number of transportations\n",
    "\n",
    "#### constraint: ####\n",
    "\n",
    "$A*x \\ge \\begin{bmatrix} d_1 \\\\ d_2 \\\\ d_3 \\end{bmatrix}$, which A is the matrix that list each pattern in the column way, it is to make a limitation for the demand of the products.\n",
    "\n",
    "\n",
    "The use of transportation in one pattern should be equal to the the supply of products of one pattern because the supply is the upper bound, so it cannot be overpassed. \n",
    "\n",
    "The use of patterns in one transportation should be equal ot the overall available space in the trucks.\n",
    "\n",
    "The sum of the overall products that can be carried cannot overpass (less equal to) the overall weight of the transportations.\n",
    "\n",
    "#### objective: ####\n",
    "\n",
    "And the objective is to minimize the number of patterns that can be used for transportation, so it should be \n",
    "\n",
    "$\\underset{b\\in \\mathbb{R^n}}{\\text{min}}\\displaystyle \\sum_{i=1}^{8} b_i$\n",
    "\n",
    "#### standard form: ####\n",
    "\n",
    "So, here the standard form is that:\n",
    "\n",
    "$$\\begin{aligned}\n",
    "\\underset{b \\in \\mathbb{R^n}}{\\text{min}}\\qquad& \\sum_{i=1}^{8}b_i \\\\\n",
    "\\text{subject to:}\\qquad& \\sum_{j=1}^{7}w_{ij} = x_i \\qquad& \\forall i \\in \\{1,2,...,7\\} \\\\\n",
    "& \\sum_{i=1}^{7}w_{ij} = 16*b_i \\qquad& \\forall j \\in \\{1,2,...,8\\} \\\\\n",
    "& \\sum_{i=1}^{7} (240 + 60 + 85 + 150 + 130 + 40 + 35)*w_{ij} \\le 1000 \\qquad& \\forall j \\in \\{1,2,...,8\\} \\\\\n",
    "\\qquad& w_{ij} \\ge 0 \\qquad& \\forall i \\in \\{1,2,...,7\\},\\ \\forall j \\in \\{1,2,...,8\\} \\\\\n",
    "\\qquad& b_i \\in \\{0,1\\} \\qquad& \\forall i \\in \\{1,2,...8\\} \\\\\n",
    "\\end{aligned}$$"
   ]
  },
  {
   "cell_type": "markdown",
   "metadata": {},
   "source": [
    "## 3. Solution ##\n"
   ]
  },
  {
   "cell_type": "markdown",
   "metadata": {},
   "source": [
    "### 3.1 Basic solution ###"
   ]
  },
  {
   "cell_type": "markdown",
   "metadata": {},
   "source": [
    "Here is the basic code that I write the function here, and fix the demand of products here to satisfy the limitation of overall pattern number in one transportation."
   ]
  },
  {
   "cell_type": "code",
   "execution_count": 1,
   "metadata": {
    "scrolled": true
   },
   "outputs": [
    {
     "name": "stdout",
     "output_type": "stream",
     "text": [
      "Academic license - for non-commercial use only\n",
      "the sum of products each pattern to be used, and usage of space pattern: ([100.0, 75.0, 50.0], [12.0, 12.0, 0.0, 1.0, 0.0, 0.0, 25.0], 50.0)\n",
      "Academic license - for non-commercial use only\n",
      "the sum of products each pattern to be used, and usage of space pattern: ([78.0, 51.0, 25.0], [9.0, 9.0, 1.0, 1.0, 0.0, 0.0, 12.0], 32.0)\n",
      "Academic license - for non-commercial use only\n",
      "the sum of products each pattern to be used, and usage of space pattern: ([56.0, 21.0, 10.0], [7.0, 4.0, -0.0, -0.0, -0.0, -0.0, 5.0], 16.0)\n",
      "Academic license - for non-commercial use only\n",
      "the sum of products each pattern to be used, and usage of space pattern: ([20.0, 10.0, 5.0], [2.0, 2.0, -0.0, -0.0, 1.0, -0.0, 2.0], 7.0)\n",
      "Academic license - for non-commercial use only\n",
      "the sum of products each pattern to be used, and usage of space pattern: ([16.0, 5.0, 2.0], [2.0, 1.0, -0.0, -0.0, -0.0, -0.0, 1.0], 4.0)\n"
     ]
    }
   ],
   "source": [
    "using JuMP, Gurobi\n",
    "\n",
    "#the list of matrix that includes all the possibilities of the pattern\n",
    "A = [ 8 0 2 4 4 0 0\n",
    "      0 4 1 2 0 2 1\n",
    "      0 0 1 0 1 1 2]\n",
    "\n",
    "\n",
    "function solver(d1, d2, d3)\n",
    "    m = Model(solver = GurobiSolver(OutputFlag = 0))\n",
    "    @variable(m, x[1:7] >= 0, Int) #x is the number of times we use pattern\n",
    "    \n",
    "    @constraint(m, A*x .>= [d1;d2;d3]) #make sure that the overall products satisfies the demand\n",
    "    \n",
    "    @objective(m, Min, sum(x)) #get the least number of pattern that should be used\n",
    "    \n",
    "    solve(m)\n",
    "\n",
    "    return(getvalue(A*x), getvalue(x), getvalue(sum(x)))\n",
    "end\n",
    "\n",
    "println(\"the sum of products each pattern to be used, and usage of space pattern: \", solver(100, 75, 50))\n",
    "println(\"the sum of products each pattern to be used, and usage of space pattern: \", solver(75, 50, 25))\n",
    "println(\"the sum of products each pattern to be used, and usage of space pattern: \", solver(50, 20, 10))\n",
    "println(\"the sum of products each pattern to be used, and usage of space pattern: \", solver(20, 10, 5))\n",
    "println(\"the sum of products each pattern to be used, and usage of space pattern: \", solver(10, 5, 2))"
   ]
  },
  {
   "cell_type": "markdown",
   "metadata": {},
   "source": [
    "### 3.2 Further solution ###\n",
    "Here I consider about adding the extra data like the weight for each pattern, the namelist of tranportation, and the name list of patterns, the main model here is linear programming and integer programming, except the demand pattern of each transportation, I provide the demand weight of each transportation, and to solve it by calculating the minimized applicable transportation. "
   ]
  },
  {
   "cell_type": "code",
   "execution_count": 2,
   "metadata": {},
   "outputs": [
    {
     "name": "stdout",
     "output_type": "stream",
     "text": [
      "Academic license - for non-commercial use only\n",
      "7×8 Named Array{Int64,2}\n",
      "Patterns ╲ Transportations │ :t1  :t2  :t3  :t4  :t5  :t6  :t7  :t8\n",
      "───────────────────────────┼───────────────────────────────────────\n",
      ":p1                        │   0    0    2    0    0    0    0    0\n",
      ":p2                        │   0    0    0    0    0    0    0    0\n",
      ":p3                        │   0    0    0    0    1    0    0    0\n",
      ":p4                        │   0    0    0    0    0    0    0    0\n",
      ":p5                        │   0    0    0    4    4    0    0    0\n",
      ":p6                        │   0    0    0    0    0    0    0    0\n",
      ":p7                        │   0    0   14   12   11    0    0    0\n"
     ]
    }
   ],
   "source": [
    "using JuMP, Gurobi, NamedArrays\n",
    "\n",
    "m = Model(solver = GurobiSolver(OutputFlag= 0))\n",
    "\n",
    "#the list of matrix that includes all the possibilities of the pattern\n",
    "A  = [8 0 2 4 4 0 0\n",
    "      0 4 1 2 0 2 1\n",
    "      0 0 1 0 1 1 2]\n",
    "\n",
    "#the matrix of weight for each pattern that can be fit in each transportation\n",
    "PW = [240 240 240 240 240 240 240 240\n",
    "        60 60 60 60 60 60 60 60\n",
    "        85 85 85 85 85 85 85 85\n",
    "      150 150 150 150 150 150 150 150\n",
    "      130 130 130 130 130 130 130 130\n",
    "        40 40 40 40 40 40 40 40\n",
    "        35 35 35 35 35 35 35 35]\n",
    "\n",
    "T = [:t1, :t2, :t3, :t4, :t5, :t6, :t7, :t8]#the list of the transportations\n",
    "P = [ :p1, :p2, :p3, :p4, :p5, :p6, :p7]#the list of the patterns\n",
    "wa = NamedArray(PW, (P, T), (\"Patterns\", \"Transportations\"))#setting the array as column as patterns, and row as transportations\n",
    "\n",
    "@variable(m, x[1:7] >= 0, Int)#x is the number of times we use pattern\n",
    "@variable(m, b[1:8], Bin)#setting the binary decision number for the use of transportations\n",
    "@variable(m, w[P, T] >= 0, Int)#the use of patterns in each transportation\n",
    "\n",
    "useT = Dict(zip(T, b))#the use of tranportations\n",
    "supP = Dict(zip(P, x))#the supply of products\n",
    "demT = Dict(zip(T,[16, 16, 16, 16, 16, 16, 16, 16]))#each transportation has 16 distinct spaces\n",
    "demW = Dict(zip(T,[1000, 1000, 1000, 1000, 1000, 1000, 1000, 1000]))#the limitation of tranportation's weight\n",
    "\n",
    "\n",
    "@constraint(m, A * x .>= [50, 20, 10]) #constraint of the product demand\n",
    "@constraint(m, [i in P], sum(w[i,j] for j in T) == supP[i]) #constraint of the product supply\n",
    "@constraint(m, [j in T], sum(w[i,j] for i in P) == useT[j] * demT[j]) # constraint of the pattern numbers\n",
    "@constraint(m, [j in T], sum(w[i,j] * wa[i,j] for i in P) <= demW[j]) # constraint of the transportation's weight\n",
    "\n",
    "\n",
    "@objective(m, Min, sum(b))#the object is to get minimized number for using the tranportation\n",
    "\n",
    "solve(m)\n",
    "\n",
    "#the plot for the patterns and transportations\n",
    "println(NamedArray(Int[getvalue(w[i,j]) for i in P, j in T], (P, T), (\"Patterns\", \"Transportations\")))\n"
   ]
  },
  {
   "cell_type": "markdown",
   "metadata": {},
   "source": [
    "## 4. Results and discussion ##\n",
    "\n"
   ]
  },
  {
   "cell_type": "markdown",
   "metadata": {},
   "source": [
    "### 4.1 Basic results ###\n",
    "\n",
    "<Center>**Number of Patterns to be used in one Truck**\n",
    "\n",
    "|  Patterns  | Number    |\n",
    "| -----------|:----------|\n",
    "|  p1       |     7     |\n",
    "|  p2       |     4     |\n",
    "|  p3       |     0     |\n",
    "|  p4       |     0     |\n",
    "|  p5       |     0     |\n",
    "|  p6       |     0     |\n",
    "|  p7       |     5     |\n",
    "\n",
    "So, the supply of this kind of strategy is that a can be transferred 56 units, b can be transferred 21 units, c can be transferred 10 units. And the overall wasted space is $5*2*1*4 =40$ in one transportation."
   ]
  },
  {
   "cell_type": "markdown",
   "metadata": {},
   "source": [
    "### 4.2 Further results ###\n",
    "(figure)<center> **Sum of Products In Each Transportation**</center>\n",
    "\n",
    "|   Transportation   |  a |  b | c |\n",
    "| -----------|:----------| ----------|-----------|\n",
    "|   Transportation 1  |   0      |    0      |     0    |\n",
    "|   Transportation 2  |   0      |    0      |     0    |\n",
    "|   Transporration 3  |   16      |   14       |   28      |\n",
    "|   Transporration 4  |   16      |   24      |    16     |\n",
    "|   Transporration 5  |   18     |    23      |    16     |\n",
    "|   Transporration 6  |   0     |     0    |      0   |\n",
    "|   Transporration 7  |   0     |     0     |     0    |\n",
    "|   Transporration 8  |   0      |    0      |    0     |\n",
    "|   Transporration 9  |   0      |    0      |    0     |\n",
    "|   Transporration 10 |   0      |    0      |    0     |\n",
    "|   Summary           |   50      |    61      |    60     |\n",
    "\n",
    "From the result, based on the limitations of the demand, it will be used three trucks the deliver all the products, a can be transferred 50 units, b can be transferred 61 units, and c can be transferred 60 units. And the overall wasted space is $4*2*1*4 + 2*1*4 + 4*2*1*4 = 72$ in these three transportations. "
   ]
  },
  {
   "cell_type": "markdown",
   "metadata": {},
   "source": [
    "### 4.3 Overall ###\n",
    "\n",
    "From the result, I can summarize that if the demand is higher, the supply will be higher, and the wasted area compared with the smaller demand one will also be more. It is possible that I may be miscalculate some kinds of data from the data that I provide in the previous part because there are so many numbers that I may not see them clearly. The first part result list the number of patterns that can be used in one truck, and I set the limitation of demand for the products, so the whole 16 distinct space in one truck can be used, and I use the data from the introduction part to calculate the wasted area. The second part is focused more on the demand of the products and the demand of the weight, also it will be considered about the utilize of the trucks. Obviously, the code shows the result of patterns to be used in each truck, and I caculate the sum of the total products. Then, calculate the wasted area. The limitation of my program is that I set up the limitation of the demand, maybe I should not set it to small, so there are a lot of extra truck that will not be used, also the sensitive of my results is that I did not make assumption about the wasted area clearly because I distinct the whole truck as 16 spaces, however, it is possbile for a product that can be fit in the base but the height cannot be fit. It is truly a shortage of my solving strategy."
   ]
  },
  {
   "cell_type": "markdown",
   "metadata": {},
   "source": [
    "## 5. Conclusion ##\n",
    "In the conclusion, I am really interested in finding the similiar and applicable code example from the class examples that I can further research the problem of cutting problem though it consider about the length except the area or the space and if I have more time, and if I can meet other more teammates to research, I think I will find out the way about solving the extra wasted space in the direction of three-dimensional. The reason that I cannot solve three-dimensional is that it is tough for me to solve it in a single person. If I have more time, I will consider about the products which fit the based area but cannot fit the height, and I will not divide the truck into distinct space because it is applicable to calculate whole together based on three-dimensional problem. And for all, I am happy for what I learn and what I can apply in this project.\n"
   ]
  },
  {
   "cell_type": "code",
   "execution_count": null,
   "metadata": {},
   "outputs": [],
   "source": []
  }
 ],
 "metadata": {
  "kernelspec": {
   "display_name": "Julia 0.6.2",
   "language": "julia",
   "name": "julia-0.6"
  },
  "language_info": {
   "file_extension": ".jl",
   "mimetype": "application/julia",
   "name": "julia",
   "version": "0.6.2"
  }
 },
 "nbformat": 4,
 "nbformat_minor": 2
}
